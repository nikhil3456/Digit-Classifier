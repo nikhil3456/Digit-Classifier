{
 "cells": [
  {
   "cell_type": "markdown",
   "metadata": {},
   "source": [
    "## Important Instruction\n",
    "\n",
    "- When you are coding neural network don't use data-structures where the shape is like (n,) i.e rank-1 array.\n",
    "- This rank-1 array are niether row vector nor column vector.\n",
    "- If you want to use array in code use a=np.random.randn(5,1) or a=np.random.randn(1,5)\n",
    "- Instead set an vector like a = np.random.randn(5,1) not like np.random.randn(5,1)\n",
    "- There is a difference when using the above method you will see two square brackets like ]]  instead of ] in np.random.randn(5).\n",
    "- Use assert statements to in code for dimension checking like assert(a.shape == (5,1))\n",
    "- If rank-1 array is created use a = a.reshape((5,1))"
   ]
  },
  {
   "cell_type": "code",
   "execution_count": 1,
   "metadata": {},
   "outputs": [],
   "source": [
    "import numpy as np\n",
    "import pandas as pd\n",
    "import matplotlib.pyplot as plt\n",
    "import warnings\n",
    "from subprocess import check_output\n",
    "from sklearn.model_selection import train_test_split\n",
    "import sys"
   ]
  },
  {
   "cell_type": "code",
   "execution_count": 2,
   "metadata": {},
   "outputs": [],
   "source": [
    "# initialize params and layer sizes\n",
    "def init_parameters_and_layer_sizes_NN(x_train, y_train):\n",
    "    pass"
   ]
  },
  {
   "cell_type": "markdown",
   "metadata": {},
   "source": [
    "### Steps for making a L-layer neural-net\n",
    "- Load the dataset\n",
    "- Split the dataset into train and test\n",
    "- Convert the data (resize) so as to serve as input to the input layer of neural net\n",
    "- Initialise weight matrix and bias matrix for differernt layers\n",
    "  - set the hyperparameters: number of layers, number of units in each layer, learning rate\n",
    "- define the activation functions for hidden layers and output layer, loss function\n",
    "- define and init the activation function for different layers\n",
    "- define the cost function\n",
    "- Write forward and backward propagation functions\n",
    "- write the update function (for updating params like W martix for each layer)\n",
    "  - Include gradient descent\n",
    "- Prediction function for predicting output on given data\n",
    "- Function for calling all other function and getting and comparing output"
   ]
  },
  {
   "cell_type": "code",
   "execution_count": 3,
   "metadata": {},
   "outputs": [
    {
     "name": "stdout",
     "output_type": "stream",
     "text": [
      "(1649, 4096)\n",
      "(413, 4096)\n"
     ]
    }
   ],
   "source": [
    "#### Load the data\n",
    "X_data = np.load('../input/Sign-language-digits-dataset/X.npy')\n",
    "Y_data = np.load('../input/Sign-language-digits-dataset/Y.npy')\n",
    "X = X_data.reshape((2062, 4096)) # Input\n",
    "Y = Y_data.reshape((2062, 10)) # Ground truth value\n",
    "\n",
    "### split into train and test\n",
    "X_train, X_test, Y_train, Y_test = train_test_split(X, Y, test_size=0.2, random_state = 42)\n",
    "\n",
    "\n",
    "print (X_train.shape)\n",
    "print (X_test.shape)"
   ]
  },
  {
   "cell_type": "code",
   "execution_count": 4,
   "metadata": {},
   "outputs": [],
   "source": [
    "#### Constructing the params for the input layer\n",
    "X_train = X_train.reshape((4096, 1649))\n",
    "Y_train = Y_train.reshape((10, 1649))\n",
    "X_test = X_test.reshape((4096, 413))\n",
    "Y_test = Y_test.reshape((10, 413))\n"
   ]
  },
  {
   "cell_type": "code",
   "execution_count": 5,
   "metadata": {},
   "outputs": [],
   "source": [
    "# This function initializes weight matrix and bias matrix for each layer\n",
    "'''\n",
    "    L is no. of layers\n",
    "    n is an LX1 vector where n[i] = number of units in layer i\n",
    "    init_wt is the initial value of weight parameters\n",
    "    init_b is the initial value of bias parameter\n",
    "\n",
    "'''\n",
    "def init_params_and_layer_sizes_NN(X_train, Y_train, L, n, init_wt, init_b):\n",
    "    params = {}\n",
    "    for i in range(L):\n",
    "        params['W%i' %(i+1)] = np.full((n[i+1][0], n[i][0]), init_wt)\n",
    "        params['b%i' %(i+1)] = np.full((n[i+1][0], 1), init_b)\n",
    "    \n",
    "    return params"
   ]
  },
  {
   "cell_type": "code",
   "execution_count": 6,
   "metadata": {},
   "outputs": [],
   "source": [
    "# This is the activation function for hidden layer\n",
    "# We will use RELU for hidden layers\n",
    "def relu(Z):\n",
    "    Z = np.maximum(Z, 0)\n",
    "    return Z"
   ]
  },
  {
   "cell_type": "code",
   "execution_count": 7,
   "metadata": {},
   "outputs": [],
   "source": [
    "# This is the activation function for output layer\n",
    "# We will use Softmax for output-layer as this is the multi-class classification problem\n",
    "def softmax(Z):\n",
    "    Z = Z - np.max(Z)\n",
    "    Z = np.exp(Z)\n",
    "    ax_sum = np.sum(Z, axis=0)\n",
    "    ax_sum = ax_sum.reshape((1, Z.shape[1]))\n",
    "    Z = Z/ax_sum\n",
    "    \n",
    "    return Z"
   ]
  },
  {
   "cell_type": "code",
   "execution_count": 8,
   "metadata": {},
   "outputs": [],
   "source": [
    "# This function is for computing the cost function\n",
    "# We used Cross-entropy loss\n",
    "# For cost function see: https://datascience.stackexchange.com/questions/20296/cross-entropy-loss-explanation\n",
    "def compute_cost_NN(AN, Y):\n",
    "    'AN is the output of output layer and Y is the Ground truth output'\n",
    "    N = AN.shape[1] # N = no_of_samples\n",
    "    loss = np.sum(AN*Y, axis = 0) # each element of this matrix give the loss of corresponding sample\n",
    "    return ((-1/N)*(np.sum(loss)))"
   ]
  },
  {
   "cell_type": "code",
   "execution_count": 9,
   "metadata": {},
   "outputs": [],
   "source": [
    "# Forward propagation\n",
    "def forward_propagation_NN(X_train, params, L):\n",
    "    'L is the number of layers in the NN'\n",
    "    cache = {} \n",
    "    A = X_train\n",
    "    cache['Z%i' %(0)] = []\n",
    "    cache['A%i' %(0)] = A\n",
    "    for i in range(L):\n",
    "        l = i+1 # l is the layer number\n",
    "        Z = np.dot(params['W%i' %(l)], A) + params['b%i' %(l)]\n",
    "        if (l!=L): A = relu(Z)\n",
    "        else: A = softmax(Z)\n",
    "        cache['Z%i' %(l)] = Z\n",
    "        cache['A%i' %(l)] = A\n",
    "    \n",
    "    return A, cache"
   ]
  },
  {
   "cell_type": "code",
   "execution_count": 10,
   "metadata": {},
   "outputs": [],
   "source": [
    "def reluDerivative(Z):\n",
    "    Z[Z<=0] = 0\n",
    "    Z[Z>0] = 1\n",
    "    return Z"
   ]
  },
  {
   "cell_type": "markdown",
   "metadata": {},
   "source": [
    "#### Softmax-gradient: https://datascience.stackexchange.com/questions/29735/how-to-apply-the-gradient-of-softmax-in-backprop"
   ]
  },
  {
   "cell_type": "code",
   "execution_count": 11,
   "metadata": {},
   "outputs": [],
   "source": [
    "# Backward propagation\n",
    "def backward_propagation_NN(params, cache, X_train, Y_train, L):\n",
    "    'L is the number of layers in NN'\n",
    "    \n",
    "    # First I will define dZ, dW, db for layer L i.e output layer:\n",
    "    grads = {}\n",
    "    dZ = cache[\"A%i\" %(L)] - Y_train\n",
    "    N = Y_train.shape[1] # N denotes number of samples\n",
    "    dW = (1/N)*(np.dot(dZ, (cache[\"A%i\" %(L-1)]).T))\n",
    "    db = (1/N)*(np.sum(dZ, axis=1, keepdims=True))\n",
    "    \n",
    "    grads[\"dW%i\" %(L)] = dW\n",
    "    grads[\"db%i\" %(L)] = db\n",
    "    \n",
    "    for i in range(L-1, 0, -1):\n",
    "        l = i # l denotes the layer number\n",
    "        dZ = np.dot((params[\"W%i\" %(l+1)].T), dZ)\n",
    "        Zl = cache[\"Z%i\" %(l)]\n",
    "        dZ = dZ * (reluDerivative(Zl))\n",
    "        dW = (1/N)*(np.dot(dZ, (cache[\"A%i\" %(l-1)].T)))\n",
    "        db = (1/N)*(np.sum(dZ, axis=1, keepdims=True))\n",
    "        grads[\"dW%i\" %(l)] = dW\n",
    "        grads[\"db%i\" %(l)] = db\n",
    "    \n",
    "    return grads\n",
    "        "
   ]
  },
  {
   "cell_type": "code",
   "execution_count": 12,
   "metadata": {},
   "outputs": [],
   "source": [
    "# This is the function for updating parameters based on gradients\n",
    "def update_parameters_NN(params, grads, learning_rate, L):\n",
    "    'L is the number of layers in NN'\n",
    "    for i in range(1, L+1, 1):\n",
    "        l = i # l denotes layer number\n",
    "        params[\"W%i\" %(l)] = params[\"W%i\" %(l)] - learning_rate*grads[\"dW%i\" %(l)]\n",
    "        params[\"b%i\" %(l)] = params[\"b%i\" %(l)] - learning_rate*grads[\"db%i\" %(l)]\n",
    "        \n",
    "    return params"
   ]
  },
  {
   "cell_type": "code",
   "execution_count": 13,
   "metadata": {},
   "outputs": [],
   "source": [
    "# This function is for predicting output given parameters(W, b for all layers) and X_test\n",
    "def predict_NN(params, X_test, L):\n",
    "    'L is the number of layers in NN'\n",
    "    A, cache = forward_propagation_NN(X_test, params, L)\n",
    "    \n",
    "    N = X_test.shape[1]\n",
    "    Y_prediction = np.argmax(A, axis=0)\n",
    "    Y_prediction = Y_prediction.reshape(Y_prediction.shape[0], 1)\n",
    "    \n",
    "    return Y_prediction"
   ]
  },
  {
   "cell_type": "code",
   "execution_count": 14,
   "metadata": {},
   "outputs": [],
   "source": [
    "# This function is for creating the final NN model\n",
    "# This model is for multi-class classification problem\n",
    "'''\n",
    "    Need to set:\n",
    "        L: number of layers in NN\n",
    "        n[i] for i=1:L-1: need to set number of units in each layer\n",
    "        n[L]: equal to number of classes in multiclass classification problem\n",
    "        n[0]: equal to number of dimensions of an input-sample\n",
    "        init_wt: set initial value of weights in weight matrix\n",
    "        init_b: set inital value of bias\n",
    "        learning_rate: need to set learning rate\n",
    "        num_iterations: need to set number of iterations of GD\n",
    "'''\n",
    "def L_layer_NN(X_train, Y_train, X_test, Y_test, learning_rate, num_iterations, L, n, init_wt, init_b):\n",
    "    cost_list = []\n",
    "    index_list = []\n",
    "    \n",
    "    # Number of samples\n",
    "    N_train = X_train.shape[1]\n",
    "    N_test = X_test.shape[1]\n",
    "    \n",
    "    # initiailze parameters and layer sizes\n",
    "    params = init_params_and_layer_sizes_NN(X_train, Y_train, L, n, init_wt, init_b)\n",
    "    \n",
    "    for i in range(0, num_iterations):\n",
    "        # forward propagation\n",
    "        A, cache = forward_propagation_NN(X_train, params, L)\n",
    "        \n",
    "        # compute cost\n",
    "        cost = compute_cost_NN(A, Y_train)\n",
    "        \n",
    "        # backward propagation\n",
    "        grads = backward_propagation_NN(params, cache, X_train, Y_train, L)\n",
    "        \n",
    "        # update parameters\n",
    "        params = update_parameters_NN(params, grads, learning_rate, L)\n",
    "        \n",
    "        # For plotting time vs cost graph\n",
    "        if i%1000 == 0:\n",
    "            cost_list.append(cost)\n",
    "            index_list.append(i)\n",
    "            print (\"Cost after iteration %i: %f\" %(i, cost))\n",
    "    \n",
    "    # For plotting time vs cost graph\n",
    "    plt.plot(index_list, cost_list)\n",
    "    plt.xticks(index_list, rotation='vertical')\n",
    "    plt.xlabel(\"Number of Iteration\")\n",
    "    plt.ylabel(\"Cost\")\n",
    "    plt.show()\n",
    "    \n",
    "    # predict\n",
    "    Y_prediction_test = predict_NN(params, X_test, L)\n",
    "    Y_prediction_train = predict_NN(params, X_train, L)\n",
    "    \n",
    "    # Print train/test Errors\n",
    "    Y_train_label = np.argmax(Y_train, axis=0)\n",
    "    Y_train_label = Y_train_label.reshape(Y_train_label.shape[0], 1)\n",
    "    \n",
    "    Y_test_label = np.argmax(Y_test, axis=0)\n",
    "    Y_test_label = Y_test_label.reshape(Y_test_label.shape[0], 1)\n",
    "    \n",
    "    print (\"train accuracy: {} %\".format(100 - (np.count_nonzero(Y_prediction_train - Y_train_label))*(100/N_train)))\n",
    "    print (\"test accuracy: {} %\".format(100 - (np.count_nonzero(Y_prediction_test - Y_test_label))*(100/N_test)))\n",
    "    \n",
    "    return params"
   ]
  },
  {
   "cell_type": "code",
   "execution_count": 19,
   "metadata": {},
   "outputs": [
    {
     "name": "stdout",
     "output_type": "stream",
     "text": [
      "Cost after iteration 0: -0.100000\n",
      "Cost after iteration 1000: -0.100003\n",
      "Cost after iteration 2000: -0.100004\n",
      "Cost after iteration 3000: -0.100006\n",
      "Cost after iteration 4000: -0.100012\n",
      "Cost after iteration 5000: -0.100024\n"
     ]
    },
    {
     "data": {
      "image/png": "[encoded data removed]",
      "text/plain": [
       "<Figure size 432x288 with 1 Axes>"
      ]
     },
     "metadata": {
      "needs_background": "light"
     },
     "output_type": "display_data"
    },
    {
     "name": "stdout",
     "output_type": "stream",
     "text": [
      "train accuracy: 6.973923590054582 %\n",
      "test accuracy: 7.748184019370456 %\n"
     ]
    },
    {
     "data": {
      "text/plain": [
       "{'W1': array([[-0.01504018,  0.01749645,  0.02385246, ..., -0.02828766,\n",
       "         -0.08562837,  0.015941  ],\n",
       "        [-0.01504018,  0.01749645,  0.02385246, ..., -0.02828766,\n",
       "         -0.08562837,  0.015941  ],\n",
       "        [-0.01504018,  0.01749645,  0.02385246, ..., -0.02828766,\n",
       "         -0.08562837,  0.015941  ],\n",
       "        ...,\n",
       "        [-0.01504018,  0.01749645,  0.02385246, ..., -0.02828766,\n",
       "         -0.08562837,  0.015941  ],\n",
       "        [-0.01504018,  0.01749645,  0.02385246, ..., -0.02828766,\n",
       "         -0.08562837,  0.015941  ],\n",
       "        [-0.01504018,  0.01749645,  0.02385246, ..., -0.02828766,\n",
       "         -0.08562837,  0.015941  ]]), 'b1': array([[-0.13942481],\n",
       "        [-0.13942481],\n",
       "        [-0.13942481],\n",
       "        [-0.13942481],\n",
       "        [-0.13942481],\n",
       "        [-0.13942481],\n",
       "        [-0.13942481],\n",
       "        [-0.13942481],\n",
       "        [-0.13942481],\n",
       "        [-0.13942481]]), 'W2': array([[0.8125128 , 0.8125128 , 0.8125128 , 0.8125128 , 0.8125128 ,\n",
       "         0.8125128 , 0.8125128 , 0.8125128 , 0.8125128 , 0.8125128 ],\n",
       "        [0.81274332, 0.81274332, 0.81274332, 0.81274332, 0.81274332,\n",
       "         0.81274332, 0.81274332, 0.81274332, 0.81274332, 0.81274332],\n",
       "        [0.81230058, 0.81230058, 0.81230058, 0.81230058, 0.81230058,\n",
       "         0.81230058, 0.81230058, 0.81230058, 0.81230058, 0.81230058],\n",
       "        [0.81313568, 0.81313568, 0.81313568, 0.81313568, 0.81313568,\n",
       "         0.81313568, 0.81313568, 0.81313568, 0.81313568, 0.81313568],\n",
       "        [0.81233235, 0.81233235, 0.81233235, 0.81233235, 0.81233235,\n",
       "         0.81233235, 0.81233235, 0.81233235, 0.81233235, 0.81233235],\n",
       "        [0.81254404, 0.81254404, 0.81254404, 0.81254404, 0.81254404,\n",
       "         0.81254404, 0.81254404, 0.81254404, 0.81254404, 0.81254404],\n",
       "        [0.81240248, 0.81240248, 0.81240248, 0.81240248, 0.81240248,\n",
       "         0.81240248, 0.81240248, 0.81240248, 0.81240248, 0.81240248],\n",
       "        [0.81236274, 0.81236274, 0.81236274, 0.81236274, 0.81236274,\n",
       "         0.81236274, 0.81236274, 0.81236274, 0.81236274, 0.81236274],\n",
       "        [0.81210576, 0.81210576, 0.81210576, 0.81210576, 0.81210576,\n",
       "         0.81210576, 0.81210576, 0.81210576, 0.81210576, 0.81210576],\n",
       "        [0.81247264, 0.81247264, 0.81247264, 0.81247264, 0.81247264,\n",
       "         0.81247264, 0.81247264, 0.81247264, 0.81247264, 0.81247264]]), 'b2': array([[-0.00024583],\n",
       "        [-0.02332484],\n",
       "        [ 0.01360076],\n",
       "        [-0.0572242 ],\n",
       "        [ 0.01263879],\n",
       "        [-0.00231564],\n",
       "        [ 0.00972305],\n",
       "        [ 0.00671929],\n",
       "        [ 0.0372884 ],\n",
       "        [ 0.00314022]])}"
      ]
     },
     "execution_count": 19,
     "metadata": {},
     "output_type": "execute_result"
    }
   ],
   "source": [
    "# L_layer_NN(X_train, Y_train, X_test, Y_test, learning_rate, num_iterations, L, n, init_wt, init_b)\n",
    "n = np.array([4096, 10, 10])\n",
    "n = n.reshape((3, 1))\n",
    "L_layer_NN(X_train, Y_train, X_test, Y_test, 0.01, 6000, 2, n, 0.1, 0.0)"
   ]
  },
  {
   "cell_type": "code",
   "execution_count": null,
   "metadata": {},
   "outputs": [],
   "source": []
  },
  {
   "cell_type": "code",
   "execution_count": null,
   "metadata": {},
   "outputs": [],
   "source": []
  }
 ],
 "metadata": {
  "kernelspec": {
   "display_name": "Python 3",
   "language": "python",
   "name": "python3"
  },
  "language_info": {
   "codemirror_mode": {
    "name": "ipython",
    "version": 3
   },
   "file_extension": ".py",
   "mimetype": "text/x-python",
   "name": "python",
   "nbconvert_exporter": "python",
   "pygments_lexer": "ipython3",
   "version": "3.7.1"
  }
 },
 "nbformat": 4,
 "nbformat_minor": 2
}
